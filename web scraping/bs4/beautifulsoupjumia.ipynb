{
 "cells": [
  {
   "cell_type": "code",
   "execution_count": 3,
   "metadata": {},
   "outputs": [],
   "source": [
    "from bs4 import BeautifulSoup as soup\n",
    "from urllib.request import urlopen as ureq\n",
    "import urllib.request"
   ]
  },
  {
   "cell_type": "code",
   "execution_count": 39,
   "metadata": {},
   "outputs": [],
   "source": [
    "user_agent = 'Mozilla/5.0 (Windows; U; Windows NT 5.1; en-US; rv:1.9.0.7) Gecko/2009021910 Firefox/3.0.7'\n",
    "headers={'User-Agent':user_agent,} \n",
    "url = \"https://www.jumia.com.ng/video-games/?q=playstation&page=2\"\n",
    "\n",
    "request=urllib.request.Request(url,None,headers) #The assembled request\n",
    "response = ureq(request)\n",
    "\n",
    "data = response.read() # The data u need\n",
    "fullhtml = soup(data, 'html.parser')\n",
    "response.close()\n",
    "body = fullhtml.body\n"
   ]
  },
  {
   "cell_type": "code",
   "execution_count": 41,
   "metadata": {},
   "outputs": [
    {
     "name": "stdout",
     "output_type": "stream",
     "text": [
      "1 .  PS4 1TB Console + 1 Extra Dual Shock 4 Controller + FIFA 18 + PS Plus 14 Day Voucher\n",
      "2 .  Spiderman PlayStation 4\n",
      "3 .  PS4 Slim Console 500GB - Jet Black\n",
      "4 .  PS4 Just Cause 4\n",
      "5 .  PS3 Slim Console 320GB Plus 2 Controllers & 21 Latest Games Including FIFA 2019 & FIFA 2018 + PES 2018 Downloaded Inside\n",
      "6 .  Sony Psvita Console (3G/Wi-Fi)\n",
      "7 .  PS4 Pad - Official Sony Controller With Warranty) PlayStation Dualshock 4 - Army\n",
      "8 .  PS4 Slim 500GB Console + Pro Evolution Soccer (PES) 2019 \n",
      "9 .  Injustice 2 - PlayStation 4\n",
      "10 .  Need For Speed Payback - PlayStation 4\n",
      "11 .  PS4 Grand Theft Auto 5 PS4 GTA 5\n",
      "12 .  Ps4 Red Dead Redemption 2\n",
      "13 .  PS4 Controller Pad Charger [Dual Slot] High Speed Docking / Charging Station\n",
      "14 .  FIFA 19 - PS3\n",
      "15 .  Call Of Duty®:BLACK OPS 4\n",
      "16 .  PES 2019 PRO EVOLUTION SOCCER PLAYSTATION 4 GAME\n",
      "17 .  PS4 Last Of Us: Remastered\n",
      "18 .  Ps4 Marvel’s Spider-Man  PlayStation 4\n",
      "19 .  Ps4 Pro Marvel's Spider-Man Limited Edition Amazing Red 1TB Console With Fifa 19 + Extra Black Controller\n",
      "20 .  Assassin's Creed Origins - PlayStation 4 Standard Edition\n",
      "21 .  500GB SUPERSLIM PS3 CONSOLE WITH 2PAD AND 20BONUS GAMES INCLUDING FIFA 19 WITH PES 2018\n",
      "22 .  PS3 Wireless Pad (2pcs)\n",
      "23 .  PS3: FIFA 16\n",
      "24 .  PlayStation 3 Slim Console + 12 Games FIFA18 & PES18\n",
      "25 .  Drive Club: PS4 Game\n",
      "26 .  PS4 Assassins Creed Odyssey\n",
      "27 .  PS4 Pad (Official Sony Controller With Warranty) New Dualshock  - Black - Latest Edition\n",
      "28 .  PS4 500GB FIFA 19 Bundle + 2 Pad\n",
      "29 .  Play Station 2 Slim  Console With 15 Games + Extra Pad Controller\n",
      "30 .  PS4 SLIM 500GB CONSOLE + FIFA19 BUNDLE\n",
      "31 .  PlaySation 4 Console Slim 500GB + Fifa 19 Standard Game\n",
      "32 .  PlayStation 4 Slim Console 500GB\n",
      "33 .  Carrying Case For PS4/PS4 Slim - Travel Bag\n",
      "34 .  PS4 500GB FIFA 19 Bundle - With FIFA 19 Ultimate Team Icons And Rare Player Pack Jet Black\n",
      "35 .  PS4 Wireless Controller Pad - Black\n",
      "36 .  Ps3 Pad- 2 Pieces\n",
      "37 .  Call Of Duty: Ghosts - PS3\n",
      "38 .  PS4 - Naruto Shippuden : Ultimate Ninja Storm 4 Road To Boruto\n",
      "39 .  PS VITA - WIFI - Plus Pouch & SD2VITA Micro SD Memory Card Adapter/Converter\n",
      "40 .  Call Of Duty: Black Ops 4 - PlayStation 4\n"
     ]
    }
   ],
   "source": [
    "product_cards = body.findAll(\"div\", {\"class\": [\"sku -gallery\", \"-has-offers\"]}) \n",
    "for product in product_cards:\n",
    "    print(product_cards.index(product)+1,\". \",product.find(\"span\", {\"class\":\"name\"}).text)"
   ]
  },
  {
   "cell_type": "code",
   "execution_count": null,
   "metadata": {},
   "outputs": [],
   "source": []
  }
 ],
 "metadata": {
  "kernelspec": {
   "display_name": "Python 3",
   "language": "python",
   "name": "python3"
  },
  "language_info": {
   "codemirror_mode": {
    "name": "ipython",
    "version": 3
   },
   "file_extension": ".py",
   "mimetype": "text/x-python",
   "name": "python",
   "nbconvert_exporter": "python",
   "pygments_lexer": "ipython3",
   "version": "3.7.0"
  }
 },
 "nbformat": 4,
 "nbformat_minor": 2
}
