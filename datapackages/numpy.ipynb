{
 "cells": [
  {
   "cell_type": "code",
   "execution_count": 3,
   "metadata": {},
   "outputs": [],
   "source": [
    "import numpy\n",
    "import numpy as np"
   ]
  },
  {
   "cell_type": "code",
   "execution_count": 17,
   "metadata": {},
   "outputs": [
    {
     "name": "stdout",
     "output_type": "stream",
     "text": [
      "[1 2 3 4]\n"
     ]
    },
    {
     "data": {
      "text/plain": [
       "(4,)"
      ]
     },
     "execution_count": 17,
     "metadata": {},
     "output_type": "execute_result"
    }
   ],
   "source": [
    "nparr = numpy.array([1,2,3,4]) #1 dimensional array\n",
    "print(nparr)\n",
    "nparr.shape"
   ]
  },
  {
   "cell_type": "code",
   "execution_count": 18,
   "metadata": {},
   "outputs": [
    {
     "name": "stdout",
     "output_type": "stream",
     "text": [
      "[[1 2 3 4]\n",
      " [1 2 3 4]]\n"
     ]
    },
    {
     "data": {
      "text/plain": [
       "(2, 4)"
      ]
     },
     "execution_count": 18,
     "metadata": {},
     "output_type": "execute_result"
    }
   ],
   "source": [
    "nparr = numpy.array([[1,2,3,4],[1,2,3,4]]) #2 dimensional array\n",
    "print(nparr)\n",
    "nparr.shape"
   ]
  },
  {
   "cell_type": "code",
   "execution_count": 6,
   "metadata": {},
   "outputs": [
    {
     "data": {
      "text/plain": [
       "array([[0.98894548, 0.97548528, 0.48733406, 0.46962832],\n",
       "       [0.58600668, 0.6585126 , 0.46192216, 0.08318549],\n",
       "       [0.02678478, 0.85250981, 0.58593808, 0.15565272]])"
      ]
     },
     "execution_count": 6,
     "metadata": {},
     "output_type": "execute_result"
    }
   ],
   "source": [
    "(np.random.random((3,4)))\n",
    "                 "
   ]
  },
  {
   "cell_type": "code",
   "execution_count": 19,
   "metadata": {},
   "outputs": [
    {
     "name": "stdout",
     "output_type": "stream",
     "text": [
      "[ 0  1  2  3  4  5  6  7  8  9 10 11 12 13 14 15 16 17 18 19 20 21 22 23\n",
      " 24 25 26 27 28 29]\n",
      "(30,)\n"
     ]
    }
   ],
   "source": [
    "nparr = numpy.array([x for x in range( 30)])\n",
    "print(nparr)\n",
    "print(nparr.shape)"
   ]
  },
  {
   "cell_type": "code",
   "execution_count": 20,
   "metadata": {},
   "outputs": [
    {
     "name": "stdout",
     "output_type": "stream",
     "text": [
      "[[[ 0  1  2]\n",
      "  [ 3  4  5]\n",
      "  [ 6  7  8]\n",
      "  [ 9 10 11]\n",
      "  [12 13 14]]\n",
      "\n",
      " [[15 16 17]\n",
      "  [18 19 20]\n",
      "  [21 22 23]\n",
      "  [24 25 26]\n",
      "  [27 28 29]]]\n"
     ]
    }
   ],
   "source": [
    "reshaped = nparr.reshape(2,5,3)\n",
    "print(reshaped)"
   ]
  },
  {
   "cell_type": "code",
   "execution_count": 28,
   "metadata": {},
   "outputs": [
    {
     "name": "stdout",
     "output_type": "stream",
     "text": [
      "[ 0  1  2  3  4  5  6  7  8  9 10 11 12 13 14 15 16 17 18 19 20 21 22 23\n",
      " 24 25 26 27 28 29]\n"
     ]
    }
   ],
   "source": [
    "numpy_gen = numpy.arange(30) #generate in steps of 1\n",
    "print(numpy_gen)"
   ]
  },
  {
   "cell_type": "code",
   "execution_count": 22,
   "metadata": {},
   "outputs": [
    {
     "name": "stdout",
     "output_type": "stream",
     "text": [
      "[3 4 5]\n"
     ]
    }
   ],
   "source": [
    "numpy_gen = numpy.arange(3,6,1) #arange\n",
    "print(numpy_gen)"
   ]
  },
  {
   "cell_type": "code",
   "execution_count": 23,
   "metadata": {},
   "outputs": [
    {
     "name": "stdout",
     "output_type": "stream",
     "text": [
      "[3.  3.6 4.2 4.8 5.4 6. ]\n"
     ]
    }
   ],
   "source": [
    "numpy_gen = numpy.linspace(3,6,6) #linspace\n",
    "print(numpy_gen)"
   ]
  },
  {
   "cell_type": "code",
   "execution_count": 24,
   "metadata": {},
   "outputs": [
    {
     "name": "stdout",
     "output_type": "stream",
     "text": [
      "3.0\n",
      "3.6\n",
      "4.2\n",
      "4.8\n",
      "5.4\n",
      "6.0\n"
     ]
    }
   ],
   "source": [
    "for row in numpy_gen:\n",
    "    print(row)"
   ]
  },
  {
   "cell_type": "code",
   "execution_count": 25,
   "metadata": {},
   "outputs": [
    {
     "name": "stdout",
     "output_type": "stream",
     "text": [
      "[0 1 2]\n",
      "[3 4 5]\n",
      "[6 7 8]\n",
      "[ 9 10 11]\n",
      "[12 13 14]\n",
      "[15 16 17]\n",
      "[18 19 20]\n",
      "[21 22 23]\n",
      "[24 25 26]\n",
      "[27 28 29]\n"
     ]
    }
   ],
   "source": [
    "for table in reshaped:#iterate over np array\n",
    "#     print(table)\n",
    "    for row in table:\n",
    "        print(row)"
   ]
  },
  {
   "cell_type": "code",
   "execution_count": 38,
   "metadata": {},
   "outputs": [
    {
     "name": "stdout",
     "output_type": "stream",
     "text": [
      "[[ 0  1  2  3  4  5]\n",
      " [ 6  7  8  9 10 11]\n",
      " [12 13 14 15 16 17]\n",
      " [18 19 20 21 22 23]\n",
      " [24 25 26 27 28 29]]\n"
     ]
    }
   ],
   "source": [
    "numpy_gen[1]\n",
    "new_arr = numpy_gen.reshape(5,6)\n",
    "print(new_arr)"
   ]
  },
  {
   "cell_type": "code",
   "execution_count": 37,
   "metadata": {},
   "outputs": [
    {
     "data": {
      "text/plain": [
       "array([ 0,  6, 12, 18, 24])"
      ]
     },
     "execution_count": 37,
     "metadata": {},
     "output_type": "execute_result"
    }
   ],
   "source": [
    "new_arr[:,0]"
   ]
  },
  {
   "cell_type": "code",
   "execution_count": 39,
   "metadata": {
    "scrolled": true
   },
   "outputs": [
    {
     "name": "stdout",
     "output_type": "stream",
     "text": [
      "[ 1.  2.  3.  4.  5.  6.  7.  8.  9. 10. 11. 12. 13. 14. 15. 16. 17. 18.\n",
      " 19. 20.] [ 1.          3.57894737  6.15789474  8.73684211 11.31578947 13.89473684\n",
      " 16.47368421 19.05263158 21.63157895 24.21052632 26.78947368 29.36842105\n",
      " 31.94736842 34.52631579 37.10526316 39.68421053 42.26315789 44.84210526\n",
      " 47.42105263 50.        ]\n"
     ]
    }
   ],
   "source": [
    "x = numpy.linspace(1,20,20)\n",
    "y = numpy.linspace(1,50,20)\n",
    "print(x,y)"
   ]
  },
  {
   "cell_type": "code",
   "execution_count": 41,
   "metadata": {},
   "outputs": [],
   "source": [
    "stacked = numpy.column_stack((x,y))"
   ]
  },
  {
   "cell_type": "code",
   "execution_count": 45,
   "metadata": {},
   "outputs": [
    {
     "name": "stdout",
     "output_type": "stream",
     "text": [
      "1.0\n",
      "1.0\n",
      "2.0\n",
      "3.5789473684210527\n",
      "3.0\n",
      "6.157894736842105\n",
      "4.0\n",
      "8.736842105263158\n",
      "5.0\n",
      "11.31578947368421\n",
      "6.0\n",
      "13.894736842105264\n",
      "7.0\n",
      "16.473684210526315\n",
      "8.0\n",
      "19.05263157894737\n",
      "9.0\n",
      "21.63157894736842\n",
      "10.0\n",
      "24.210526315789473\n",
      "11.0\n",
      "26.789473684210527\n",
      "12.0\n",
      "29.36842105263158\n",
      "13.0\n",
      "31.94736842105263\n",
      "14.0\n",
      "34.526315789473685\n",
      "15.0\n",
      "37.10526315789474\n",
      "16.0\n",
      "39.68421052631579\n",
      "17.0\n",
      "42.26315789473684\n",
      "18.0\n",
      "44.8421052631579\n",
      "19.0\n",
      "47.421052631578945\n",
      "20.0\n",
      "50.0\n"
     ]
    }
   ],
   "source": [
    "# print(stacked)\n",
    "for item in stacked.flat :\n",
    "    print (item)"
   ]
  },
  {
   "cell_type": "code",
   "execution_count": null,
   "metadata": {},
   "outputs": [],
   "source": [
    "import pandas \n",
    "_ddict = {'name':[1,2,3,4]}\n"
   ]
  }
 ],
 "metadata": {
  "kernelspec": {
   "display_name": "Python 3",
   "language": "python",
   "name": "python3"
  },
  "language_info": {
   "codemirror_mode": {
    "name": "ipython",
    "version": 3
   },
   "file_extension": ".py",
   "mimetype": "text/x-python",
   "name": "python",
   "nbconvert_exporter": "python",
   "pygments_lexer": "ipython3",
   "version": "3.7.0"
  }
 },
 "nbformat": 4,
 "nbformat_minor": 2
}
